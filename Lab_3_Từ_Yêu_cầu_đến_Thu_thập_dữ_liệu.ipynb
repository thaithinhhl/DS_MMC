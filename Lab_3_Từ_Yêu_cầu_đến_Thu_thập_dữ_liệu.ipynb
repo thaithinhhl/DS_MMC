{
  "nbformat": 4,
  "nbformat_minor": 0,
  "metadata": {
    "kernelspec": {
      "display_name": "Python 3",
      "language": "python",
      "name": "python3"
    },
    "language_info": {
      "codemirror_mode": {
        "name": "ipython",
        "version": 3
      },
      "file_extension": ".py",
      "mimetype": "text/x-python",
      "name": "python",
      "nbconvert_exporter": "python",
      "pygments_lexer": "ipython3",
      "version": "3.7.6"
    },
    "colab": {
      "provenance": []
    }
  },
  "cells": [
    {
      "cell_type": "markdown",
      "metadata": {
        "button": false,
        "new_sheet": false,
        "run_control": {
          "read_only": false
        },
        "id": "2qiVj8o4QgL8"
      },
      "source": [
        "\n",
        "\n",
        "#Lab 3 Từ Yêu cầu đến Thu thập dữ liệu\n",
        "\n",
        "Thời lượng: 120 phút\n",
        "\n",
        "## Mục tiêu\n",
        "\n",
        "Sau khi hoàn thành lab này, bạn sẽ có thể:\n",
        "\n",
        "-   Hiểu về yêu cầu dữ liệu\n",
        "-   Khám phá các bước của thu thập dữ liệu\n"
      ]
    },
    {
      "cell_type": "markdown",
      "metadata": {
        "button": false,
        "new_sheet": false,
        "run_control": {
          "read_only": false
        },
        "id": "By_SOv9_QgML"
      },
      "source": [
        "## Mục lục\n",
        "\n",
        "<div class=\"alert alert-block alert-info\" style=\"margin-top: 20px\">\n",
        "    \n",
        "1. [Yêu cầu Dữ liệu](#0)<br>\n",
        "2. [Thu thập Dữ liệu](#2)<br>\n",
        "</div>\n",
        "<hr>\n"
      ]
    },
    {
      "cell_type": "markdown",
      "metadata": {
        "button": false,
        "new_sheet": false,
        "run_control": {
          "read_only": false
        },
        "id": "OwfXA-Q8QgMM"
      },
      "source": [
        "# Yêu cầu Dữ liệu <a id=\"0\"></a>\n"
      ]
    },
    {
      "cell_type": "markdown",
      "metadata": {
        "button": false,
        "new_sheet": false,
        "run_control": {
          "read_only": false
        },
        "id": "yNXH4qQzQgMO"
      },
      "source": [
        "<img src=\"https://s3-api.us-geo.objectstorage.softlayer.net/cf-courses-data/CognitiveClass/DS0103EN/labs/images/lab2_fig1_flowchart_data_requirements.png\" width=500>\n"
      ]
    },
    {
      "cell_type": "markdown",
      "metadata": {
        "button": false,
        "new_sheet": false,
        "run_control": {
          "read_only": false
        },
        "id": "TnbAa3d7QgMO"
      },
      "source": [
        "Trong các video bài giảng, chúng ta đã biết rằng phương pháp tiếp cận phân tích đã chọn sẽ xác định các yêu cầu về dữ liệu. Cụ thể, các phương pháp phân tích được sử dụng sẽ yêu cầu nội dung dữ liệu, kiểu định dạng và cách biểu diễn dữ liệu nhất định, được định hướng bởi kiến thức nền tảng về nghiệp vụ, lĩnh vực liên quan (domain knowledge).\n"
      ]
    },
    {
      "cell_type": "markdown",
      "metadata": {
        "button": false,
        "new_sheet": false,
        "run_control": {
          "read_only": false
        },
        "id": "p-uu3a4cQgMP"
      },
      "source": [
        "Trong lab **Từ vấn đề đến phương pháp tiếp cận**, chúng ta đã xác định rằng việc tự động hóa quy trình xác định nguồn gốc ẩm thực của một công thức hoặc món ăn nhất định có thể thực hiện được bằng cách sử dụng các thành phần nguyên liệu của công thức hoặc món ăn đó. Để xây dựng một mô hình, chúng ta cần nguồn dữ liệu phong phú về các nền ẩm thực và công thức nấu ăn khác nhau.\n"
      ]
    },
    {
      "cell_type": "markdown",
      "metadata": {
        "button": false,
        "new_sheet": false,
        "run_control": {
          "read_only": false
        },
        "id": "gZUSl0OcQgMQ"
      },
      "source": [
        "Việc xác định dữ liệu cần thiết đáp ứng giai đoạn yêu cầu dữ liệu của phương pháp luận khoa học dữ liệu.\n",
        "\n",
        "* * *\n"
      ]
    },
    {
      "cell_type": "markdown",
      "metadata": {
        "button": false,
        "new_sheet": false,
        "run_control": {
          "read_only": false
        },
        "id": "rB3-XsAtQgMQ"
      },
      "source": [
        "# Thu thập Dữ liệu <a id=\"2\"></a>\n"
      ]
    },
    {
      "cell_type": "markdown",
      "metadata": {
        "button": false,
        "new_sheet": false,
        "run_control": {
          "read_only": false
        },
        "id": "8NjjWU-rQgMR"
      },
      "source": [
        "<img src=\"https://s3-api.us-geo.objectstorage.softlayer.net/cf-courses-data/CognitiveClass/DS0103EN/labs/images/lab2_fig2_flowchart_data_collection.png\" width=500>\n"
      ]
    },
    {
      "cell_type": "markdown",
      "metadata": {
        "button": false,
        "new_sheet": false,
        "run_control": {
          "read_only": false
        },
        "id": "YLU6iqnOQgMR"
      },
      "source": [
        "Trong giai đoạn thu thập dữ liệu ban đầu, các nhà khoa học dữ liệu xác định và thu thập các nguồn dữ liệu sẵn có. Chúng có thể ở dạng dữ liệu có cấu trúc, phi cấu trúc và thậm chí là bán cấu trúc có liên quan đến nghiệp vụ, lĩnh vực của vấn đề/bài toán cần giải quyết (problem domain).\n"
      ]
    },
    {
      "cell_type": "markdown",
      "metadata": {
        "button": false,
        "new_sheet": false,
        "run_control": {
          "read_only": false
        },
        "id": "zmXfr6bPQgMS"
      },
      "source": [
        "#### Web tổng hợp các công thức nấu ăn trực tuyến\n",
        "\n",
        "Một nhà nghiên cứu tên Yong-Yeol Ahn đã tìm kiếm hàng chục nghìn công thức nấu ăn (món ăn và nguyên liệu) từ ba trang web khác nhau, đó là:\n"
      ]
    },
    {
      "cell_type": "markdown",
      "metadata": {
        "button": false,
        "new_sheet": false,
        "run_control": {
          "read_only": false
        },
        "id": "eMQHz5CZQgMS"
      },
      "source": [
        "<img src=\"https://s3-api.us-geo.objectstorage.softlayer.net/cf-courses-data/CognitiveClass/DS0103EN/labs/images/lab2_fig3_allrecipes.png\" width=500>\n",
        "\n",
        "[www.allrecipes.com](http://www.allrecipes.com?cm_mmc=Email_Newsletter-_-Developer_Ed%2BTech-_-WW_WW-_-SkillsNetwork-Courses-IBMDeveloperSkillsNetwork-DS0103EN-SkillsNetwork-20083987&cm_mmca1=000026UJ&cm_mmca2=10006555&cm_mmca3=M12345678&cvosrc=email.Newsletter.M12345678&cvo_campaign=000026UJ)\n",
        "\n",
        "<img src=\"https://s3-api.us-geo.objectstorage.softlayer.net/cf-courses-data/CognitiveClass/DS0103EN/labs/images/lab2_fig4_epicurious.png\" width=500>\n",
        "\n",
        "[www.epicurious.com](http://www.epicurious.com?cm_mmc=Email_Newsletter-_-Developer_Ed%2BTech-_-WW_WW-_-SkillsNetwork-Courses-IBMDeveloperSkillsNetwork-DS0103EN-SkillsNetwork-20083987&cm_mmca1=000026UJ&cm_mmca2=10006555&cm_mmca3=M12345678&cvosrc=email.Newsletter.M12345678&cvo_campaign=000026UJ)\n",
        "\n",
        "<img src=\"https://s3-api.us-geo.objectstorage.softlayer.net/cf-courses-data/CognitiveClass/DS0103EN/labs/images/lab2_fig5_menupan.png\" width=500>\n",
        "\n",
        "[www.menupan.com](http://www.menupan.com?cm_mmc=Email_Newsletter-_-Developer_Ed%2BTech-_-WW_WW-_-SkillsNetwork-Courses-IBMDeveloperSkillsNetwork-DS0103EN-SkillsNetwork-20083987&cm_mmca1=000026UJ&cm_mmca2=10006555&cm_mmca3=M12345678&cvosrc=email.Newsletter.M12345678&cvo_campaign=000026UJ)\n"
      ]
    },
    {
      "cell_type": "markdown",
      "metadata": {
        "button": false,
        "new_sheet": false,
        "run_control": {
          "read_only": false
        },
        "id": "TD11WRW7QgMU"
      },
      "source": [
        "Để biết thêm thông tin về Yong-Yeol Ahn và nghiên cứu của anh ấy, bạn có thể đọc bài báo của anh ấy trên [Flavor Network and the Principles of Food Pairing](http://yongyeol.com/papers/ahn-flavornet-2011.pdf?cm_mmc=Email_Newsletter-_-Developer_Ed%2BTech-_-WW_WW-_-SkillsNetwork-Courses-IBMDeveloperSkillsNetwork-DS0103EN-SkillsNetwork-20083987&cm_mmca1=000026UJ&cm_mmca2=10006555&cm_mmca3=M12345678&cvosrc=email.Newsletter.M12345678&cvo_campaign=000026UJ&cm_mmc=Email_Newsletter-_-Developer_Ed%2BTech-_-WW_WW-_-SkillsNetwork-Courses-IBMDeveloperSkillsNetwork-DS0103EN-SkillsNetwork-20083987&cm_mmca1=000026UJ&cm_mmca2=10006555&cm_mmca3=M12345678&cvosrc=email.Newsletter.M12345678&cvo_campaign=000026UJ).\n"
      ]
    },
    {
      "cell_type": "markdown",
      "metadata": {
        "button": false,
        "new_sheet": false,
        "run_control": {
          "read_only": false
        },
        "id": "7smTCLNgQgMW"
      },
      "source": [
        "May mắn là chúng ta sẽ không cần phải thực hiện bất kỳ việc thu thập dữ liệu nào vì dữ liệu mà chúng ta cần để đáp ứng mục tiêu được xác định trong giai đoạn hiểu về nghiệp vụ (business understanding) đã sẵn sàng.\n"
      ]
    },
    {
      "cell_type": "markdown",
      "metadata": {
        "button": false,
        "new_sheet": false,
        "run_control": {
          "read_only": false
        },
        "id": "O6NpVwZeQgMX"
      },
      "source": [
        "Chúng ta đã có được dữ liệu và đặt nó ở máy chủ IBM. Hãy tải dữ liệu xuống và xem.\n"
      ]
    },
    {
      "cell_type": "markdown",
      "metadata": {
        "button": false,
        "new_sheet": false,
        "run_control": {
          "read_only": false
        },
        "id": "lWQGWGyfQgMY"
      },
      "source": [
        "<strong> Lưu ý quan trọng: </strong> Xin lưu ý rằng bạn không cần biết cách lập trình trong python. Đoạn code sau đây nhằm minh họa giai đoạn thu thập dữ liệu, vì vậy sẽ không có vấn đề gì nếu bạn không hiểu từng dòng code riêng lẻ. Chứng chỉ này sẽ có một khóa học đầy đủ về lập trình bằng python, <a href=\"http://cocl.us/PY0101EN_DS0103EN_LAB2_PYTHON_edX\"> Python cho Khoa học Dữ liệu </a>, khóa học này sẽ dạy bạn cách lập trình bằng Python.\n"
      ]
    },
    {
      "cell_type": "markdown",
      "metadata": {
        "button": false,
        "new_sheet": false,
        "run_control": {
          "read_only": false
        },
        "id": "Euqi0FzSQgMa"
      },
      "source": [
        "### Sử dụng notebook này:\n",
        "\n",
        "Để chạy bất kỳ cell code nào sau đây, bạn có thể nhập **Shift + Enter** để thực thi code trong một cell."
      ]
    },
    {
      "cell_type": "markdown",
      "metadata": {
        "button": false,
        "new_sheet": false,
        "run_control": {
          "read_only": false
        },
        "id": "du_ugvD_QgMb"
      },
      "source": [
        "Cài đặt phiên bản mới của Python\n"
      ]
    },
    {
      "cell_type": "code",
      "metadata": {
        "button": false,
        "collapsed": true,
        "jupyter": {
          "outputs_hidden": true
        },
        "new_sheet": false,
        "run_control": {
          "read_only": false
        },
        "id": "u8mTigjIQgMb",
        "colab": {
          "base_uri": "https://localhost:8080/"
        },
        "outputId": "9808407a-9599-4502-af5f-20fa4e536989"
      },
      "source": [
        "# check Python version\n",
        "!python -V"
      ],
      "execution_count": 1,
      "outputs": [
        {
          "output_type": "stream",
          "name": "stdout",
          "text": [
            "Python 3.10.12\n"
          ]
        }
      ]
    },
    {
      "cell_type": "markdown",
      "metadata": {
        "button": false,
        "new_sheet": false,
        "run_control": {
          "read_only": false
        },
        "id": "GIr4BwYKQgMd"
      },
      "source": [
        "Đọc dữ liệu từ máy chủ IBM vào khung dữ liệu _pandas_.\n"
      ]
    },
    {
      "cell_type": "code",
      "metadata": {
        "button": false,
        "collapsed": true,
        "jupyter": {
          "outputs_hidden": true
        },
        "new_sheet": false,
        "run_control": {
          "read_only": false
        },
        "id": "CiTYIOqtQgMd",
        "colab": {
          "base_uri": "https://localhost:8080/"
        },
        "outputId": "1ca4764c-c76b-435f-a5e3-82f505e22e87"
      },
      "source": [
        "import pandas as pd # download library to read data into dataframe\n",
        "pd.set_option('display.max_columns', None)\n",
        "\n",
        "# Điền code vào đây\n",
        "recipes = pd.read_csv(\"https://s3-api.us-geo.objectstorage.softlayer.net/cf-courses-data/CognitiveClass/DS0103EN/labs/data/recipes.csv\")\n",
        "\n",
        "print(\"Data read into dataframe!\") # takes about 30 seconds"
      ],
      "execution_count": 3,
      "outputs": [
        {
          "output_type": "stream",
          "name": "stdout",
          "text": [
            "Data read into dataframe!\n"
          ]
        }
      ]
    },
    {
      "cell_type": "markdown",
      "source": [
        "Nhấp đúp vào __đây__ để xem lời giải.\n",
        "<!--\n",
        "pd.read_csv\n",
        "-->"
      ],
      "metadata": {
        "id": "qDMfPxT4lnUj"
      }
    },
    {
      "cell_type": "markdown",
      "metadata": {
        "button": false,
        "new_sheet": false,
        "run_control": {
          "read_only": false
        },
        "id": "1BY3ccefQgMe"
      },
      "source": [
        "Hiển thị một số hàng đầu tiên.\n"
      ]
    },
    {
      "cell_type": "code",
      "metadata": {
        "button": false,
        "collapsed": true,
        "jupyter": {
          "outputs_hidden": true
        },
        "new_sheet": false,
        "run_control": {
          "read_only": false
        },
        "id": "XoI-6TWdQgMe",
        "colab": {
          "base_uri": "https://localhost:8080/"
        },
        "outputId": "e2bc6dfa-9807-4087-b204-1d31b8d2da60"
      },
      "source": [
        "print(recipes[:5])\n"
      ],
      "execution_count": 4,
      "outputs": [
        {
          "output_type": "stream",
          "name": "stdout",
          "text": [
            "      country almond angelica anise anise_seed apple apple_brandy apricot  \\\n",
            "0  Vietnamese     No       No    No         No    No           No      No   \n",
            "1  Vietnamese     No       No    No         No    No           No      No   \n",
            "2  Vietnamese     No       No    No         No    No           No      No   \n",
            "3  Vietnamese     No       No    No         No    No           No      No   \n",
            "4  Vietnamese     No       No    No         No    No           No      No   \n",
            "\n",
            "  armagnac artemisia artichoke asparagus avocado bacon baked_potato balm  \\\n",
            "0       No        No        No        No      No    No           No   No   \n",
            "1       No        No        No        No      No    No           No   No   \n",
            "2       No        No        No        No      No    No           No   No   \n",
            "3       No        No        No        No      No    No           No   No   \n",
            "4       No        No        No        No      No    No           No   No   \n",
            "\n",
            "  banana barley bartlett_pear basil bay bean beech beef beef_broth beef_liver  \\\n",
            "0     No     No            No   Yes  No   No    No   No         No         No   \n",
            "1     No     No            No    No  No   No    No   No         No         No   \n",
            "2     No     No            No    No  No   No    No   No         No         No   \n",
            "3     No     No            No   Yes  No  Yes    No   No        Yes         No   \n",
            "4     No     No            No    No  No   No    No   No         No         No   \n",
            "\n",
            "  beer beet bell_pepper bergamot berry bitter_orange black_bean black_currant  \\\n",
            "0   No   No          No       No    No            No         No            No   \n",
            "1   No   No          No       No    No            No         No            No   \n",
            "2   No   No          No       No    No            No         No            No   \n",
            "3   No   No          No       No    No            No         No            No   \n",
            "4   No   No          No       No    No            No         No            No   \n",
            "\n",
            "  black_mustard_seed_oil black_pepper black_raspberry black_sesame_seed  \\\n",
            "0                     No           No              No                No   \n",
            "1                     No          Yes              No                No   \n",
            "2                     No           No              No                No   \n",
            "3                     No           No              No                No   \n",
            "4                     No           No              No                No   \n",
            "\n",
            "  black_tea blackberry blackberry_brandy blue_cheese blueberry bone_oil  \\\n",
            "0        No         No                No          No        No       No   \n",
            "1        No         No                No          No        No       No   \n",
            "2        No         No                No          No        No       No   \n",
            "3        No         No                No          No        No       No   \n",
            "4        No         No                No          No        No       No   \n",
            "\n",
            "  bourbon_whiskey brandy brassica bread broccoli brown_rice brussels_sprout  \\\n",
            "0              No     No       No    No       No         No              No   \n",
            "1              No     No       No    No       No         No              No   \n",
            "2              No     No       No    No       No         No              No   \n",
            "3              No     No       No    No       No         No              No   \n",
            "4              No     No       No    No       No         No              No   \n",
            "\n",
            "  buckwheat butter buttermilk cabbage cabernet_sauvignon_wine cacao  \\\n",
            "0        No     No         No      No                      No    No   \n",
            "1        No     No         No      No                      No    No   \n",
            "2        No     No         No      No                      No    No   \n",
            "3        No     No         No      No                      No    No   \n",
            "4        No     No         No      No                      No    No   \n",
            "\n",
            "  camembert_cheese cane_molasses caraway cardamom carnation carob carrot  \\\n",
            "0               No            No      No       No        No    No    Yes   \n",
            "1               No            No      No       No        No    No     No   \n",
            "2               No            No      No       No        No    No     No   \n",
            "3               No            No      No       No        No    No     No   \n",
            "4               No            No      No       No        No    No     No   \n",
            "\n",
            "  cashew cassava catfish cauliflower caviar cayenne celery celery_oil cereal  \\\n",
            "0     No      No      No          No     No     Yes     No         No     No   \n",
            "1     No      No      No          No     No     Yes     No         No     No   \n",
            "2     No      No      No          No     No      No     No         No     No   \n",
            "3     No      No      No          No     No     Yes     No         No     No   \n",
            "4     No      No      No          No     No     Yes     No         No     No   \n",
            "\n",
            "  chamomile champagne_wine chayote cheddar_cheese cheese cherry cherry_brandy  \\\n",
            "0        No             No      No             No     No     No            No   \n",
            "1        No             No      No             No     No     No            No   \n",
            "2        No             No      No             No     No     No            No   \n",
            "3        No             No      No             No     No     No            No   \n",
            "4        No             No      No             No     No     No            No   \n",
            "\n",
            "  chervil chicken chicken_broth chicken_liver chickpea chicory  \\\n",
            "0      No      No            No            No       No      No   \n",
            "1      No      No            No            No       No      No   \n",
            "2      No      No            No            No       No      No   \n",
            "3      No      No            No            No       No      No   \n",
            "4      No      No            No            No       No      No   \n",
            "\n",
            "  chinese_cabbage chive cider cilantro cinnamon citrus citrus_peel clam clove  \\\n",
            "0              No    No    No      Yes       No     No          No   No    No   \n",
            "1              No    No    No       No       No     No          No   No    No   \n",
            "2              No    No    No       No       No     No          No   No    No   \n",
            "3              No    No    No      Yes       No     No          No   No    No   \n",
            "4              No    No    No       No       No     No          No   No    No   \n",
            "\n",
            "  cocoa coconut coconut_oil cod coffee cognac concord_grape condiment  \\\n",
            "0    No      No          No  No     No     No            No        No   \n",
            "1    No      No          No  No     No     No            No        No   \n",
            "2    No      No          No  No     No     No            No        No   \n",
            "3    No      No          No  No     No     No            No        No   \n",
            "4    No      No          No  No     No     No            No        No   \n",
            "\n",
            "  coriander corn corn_flake corn_grit cottage_cheese crab cranberry cream  \\\n",
            "0        No   No         No        No             No   No        No    No   \n",
            "1        No   No         No        No             No   No        No    No   \n",
            "2        No   No         No        No             No   No        No    No   \n",
            "3        No   No         No        No             No   No        No    No   \n",
            "4       Yes   No         No        No             No   No        No    No   \n",
            "\n",
            "  cream_cheese cucumber cumin cured_pork currant date dill durian eel egg  \\\n",
            "0           No      Yes    No         No      No   No   No     No  No  No   \n",
            "1           No       No    No         No      No   No   No     No  No  No   \n",
            "2           No       No    No         No      No   No   No     No  No  No   \n",
            "3           No       No    No         No      No   No   No     No  No  No   \n",
            "4           No      Yes    No         No      No   No   No     No  No  No   \n",
            "\n",
            "  egg_noodle elderberry emmental_cheese endive enokidake fennel fenugreek  \\\n",
            "0         No         No              No     No        No     No        No   \n",
            "1         No         No              No     No        No     No        No   \n",
            "2         No         No              No     No        No     No        No   \n",
            "3         No         No              No     No        No     No        No   \n",
            "4         No         No              No     No        No     No        No   \n",
            "\n",
            "  feta_cheese fig fish flower frankfurter fruit galanga gardenia garlic  \\\n",
            "0          No  No  Yes     No          No    No      No       No    Yes   \n",
            "1          No  No  Yes     No          No    No      No       No    Yes   \n",
            "2          No  No   No     No          No    No      No       No    Yes   \n",
            "3          No  No  Yes     No          No    No      No       No     No   \n",
            "4          No  No  Yes     No          No    No      No       No    Yes   \n",
            "\n",
            "  gelatin geranium gin ginger goat_cheese grape grape_brandy grape_juice  \\\n",
            "0      No       No  No     No          No    No           No          No   \n",
            "1      No       No  No     No          No    No           No          No   \n",
            "2      No       No  No     No          No    No           No          No   \n",
            "3      No       No  No    Yes          No    No           No          No   \n",
            "4      No       No  No     No          No    No           No          No   \n",
            "\n",
            "  grapefruit green_bell_pepper green_tea gruyere_cheese guava haddock ham  \\\n",
            "0         No                No        No             No    No      No  No   \n",
            "1         No                No        No             No    No      No  No   \n",
            "2         No                No        No             No    No      No  No   \n",
            "3         No                No        No             No    No      No  No   \n",
            "4         No                No        No             No    No      No  No   \n",
            "\n",
            "  hazelnut herring holy_basil honey hop horseradish huckleberry jamaican_rum  \\\n",
            "0       No      No         No    No  No          No          No           No   \n",
            "1       No      No         No    No  No          No          No           No   \n",
            "2       No      No         No    No  No          No          No           No   \n",
            "3       No      No         No    No  No          No          No           No   \n",
            "4       No      No         No    No  No          No          No           No   \n",
            "\n",
            "  japanese_plum jasmine jasmine_tea juniper_berry kaffir_lime kale  \\\n",
            "0            No      No          No            No          No   No   \n",
            "1            No      No          No            No          No   No   \n",
            "2            No      No          No            No          No   No   \n",
            "3            No      No          No            No          No   No   \n",
            "4            No      No          No            No          No   No   \n",
            "\n",
            "  katsuobushi kelp kidney_bean kiwi kohlrabi kumquat lamb lard laurel  \\\n",
            "0          No   No          No   No       No      No   No   No     No   \n",
            "1          No   No          No   No       No      No   No   No     No   \n",
            "2          No   No          No   No       No      No   No   No     No   \n",
            "3          No   No          No   No       No      No   No   No     No   \n",
            "4          No   No          No   No       No      No   No   No     No   \n",
            "\n",
            "  lavender leaf leek lemon lemon_juice lemon_peel lemongrass lentil lettuce  \\\n",
            "0       No   No   No    No          No         No         No     No     Yes   \n",
            "1       No   No   No    No          No         No         No     No      No   \n",
            "2       No   No   No    No          No         No         No     No      No   \n",
            "3       No   No   No    No          No         No         No     No      No   \n",
            "4       No   No   No   Yes          No         No         No     No      No   \n",
            "\n",
            "  licorice lilac_flower_oil lima_bean lime lime_juice lime_peel_oil  \\\n",
            "0       No               No        No   No        Yes            No   \n",
            "1       No               No        No   No         No            No   \n",
            "2       No               No        No   No        Yes            No   \n",
            "3       No               No        No  Yes        Yes            No   \n",
            "4       No               No        No   No        Yes            No   \n",
            "\n",
            "  lingonberry litchi liver lobster long_pepper lovage macadamia_nut macaroni  \\\n",
            "0          No     No    No      No          No     No            No       No   \n",
            "1          No     No    No      No          No     No            No       No   \n",
            "2          No     No    No      No          No     No            No       No   \n",
            "3          No     No    No      No          No     No            No       No   \n",
            "4          No     No    No      No          No     No            No       No   \n",
            "\n",
            "  mace mackerel malt mandarin mandarin_peel mango maple_syrup marjoram mate  \\\n",
            "0   No       No   No       No            No    No          No       No   No   \n",
            "1   No       No   No       No            No    No          No       No   No   \n",
            "2   No       No   No       No            No    No          No       No   No   \n",
            "3   No       No   No       No            No    No          No       No   No   \n",
            "4   No       No   No       No            No    No          No       No   No   \n",
            "\n",
            "  matsutake meat melon milk milk_fat mint mozzarella_cheese mung_bean  \\\n",
            "0        No   No    No   No       No  Yes                No        No   \n",
            "1        No   No    No   No       No   No                No        No   \n",
            "2        No   No    No   No       No   No                No        No   \n",
            "3        No   No    No   No       No  Yes                No        No   \n",
            "4        No   No    No   No       No  Yes                No        No   \n",
            "\n",
            "  munster_cheese muscat_grape mushroom mussel mustard mutton nectarine nira  \\\n",
            "0             No           No       No     No      No     No        No   No   \n",
            "1             No           No       No     No      No     No        No   No   \n",
            "2             No           No       No     No      No     No        No   No   \n",
            "3             No           No       No     No      No     No        No   No   \n",
            "4             No           No       No     No      No     No        No   No   \n",
            "\n",
            "  nut nutmeg oat oatmeal octopus okra olive olive_oil onion orange  \\\n",
            "0  No     No  No      No      No   No    No       Yes    No     No   \n",
            "1  No     No  No      No      No   No    No        No   Yes     No   \n",
            "2  No     No  No      No      No   No    No        No    No     No   \n",
            "3  No     No  No      No      No   No    No        No    No     No   \n",
            "4  No     No  No      No      No   No    No        No    No     No   \n",
            "\n",
            "  orange_flower orange_juice orange_peel oregano ouzo oyster palm papaya  \\\n",
            "0            No           No          No      No   No     No   No     No   \n",
            "1            No           No          No      No   No     No   No     No   \n",
            "2            No           No          No      No   No     No   No     No   \n",
            "3            No           No          No      No   No     No   No     No   \n",
            "4            No           No          No      No   No     No   No     No   \n",
            "\n",
            "  parmesan_cheese parsley parsnip passion_fruit  pea peach peanut  \\\n",
            "0              No      No      No            No   No    No     No   \n",
            "1              No      No      No            No   No    No     No   \n",
            "2              No      No      No            No   No    No     No   \n",
            "3              No      No      No            No  Yes    No     No   \n",
            "4              No      No      No            No   No    No    Yes   \n",
            "\n",
            "  peanut_butter peanut_oil pear pear_brandy pecan pelargonium pepper  \\\n",
            "0            No         No   No          No    No          No     No   \n",
            "1            No         No   No          No    No          No     No   \n",
            "2            No         No   No          No    No          No     No   \n",
            "3            No         No   No          No    No          No     No   \n",
            "4            No         No   No          No    No          No     No   \n",
            "\n",
            "  peppermint peppermint_oil pimenta pimento pineapple pistachio plum popcorn  \\\n",
            "0         No             No      No      No        No        No   No      No   \n",
            "1         No             No      No      No        No        No   No      No   \n",
            "2         No             No      No      No        No        No   No      No   \n",
            "3         No             No      No      No        No        No   No      No   \n",
            "4         No             No      No      No        No        No   No      No   \n",
            "\n",
            "  porcini pork pork_liver pork_sausage port_wine potato potato_chip prawn  \\\n",
            "0      No   No         No           No        No     No          No    No   \n",
            "1      No   No         No           No        No     No          No    No   \n",
            "2      No   No         No           No        No     No          No    No   \n",
            "3      No   No         No           No        No     No          No    No   \n",
            "4      No   No         No           No        No     No          No    No   \n",
            "\n",
            "  prickly_pear provolone_cheese pumpkin quince radish raisin rapeseed  \\\n",
            "0           No               No      No     No     No     No       No   \n",
            "1           No               No      No     No     No     No       No   \n",
            "2           No               No      No     No     No     No       No   \n",
            "3           No               No      No     No     No     No       No   \n",
            "4           No               No      No     No     No     No       No   \n",
            "\n",
            "  raspberry raw_beef red_algae red_bean red_kidney_bean red_wine rhubarb rice  \\\n",
            "0        No       No        No       No              No       No      No  Yes   \n",
            "1        No       No        No       No              No       No      No   No   \n",
            "2        No       No        No       No              No       No      No   No   \n",
            "3        No       No        No       No              No       No      No  Yes   \n",
            "4        No       No        No       No              No       No      No  Yes   \n",
            "\n",
            "  roasted_almond roasted_beef roasted_hazelnut roasted_meat roasted_nut  \\\n",
            "0             No           No               No           No          No   \n",
            "1             No           No               No           No          No   \n",
            "2             No           No               No           No          No   \n",
            "3             No          Yes               No           No          No   \n",
            "4             No           No               No           No          No   \n",
            "\n",
            "  roasted_peanut roasted_pecan roasted_pork roasted_sesame_seed romano_cheese  \\\n",
            "0             No            No           No                  No            No   \n",
            "1             No            No           No                  No            No   \n",
            "2             No            No           No                  No            No   \n",
            "3             No            No           No                  No            No   \n",
            "4             No            No           No                  No            No   \n",
            "\n",
            "  root roquefort_cheese rose rosemary rum rutabaga rye_bread rye_flour  \\\n",
            "0   No               No   No       No  No       No        No        No   \n",
            "1   No               No   No       No  No       No        No        No   \n",
            "2   No               No   No       No  No       No        No        No   \n",
            "3   No               No   No       No  No       No        No        No   \n",
            "4   No               No   No       No  No       No        No        No   \n",
            "\n",
            "  saffron sage sake salmon salmon_roe sassafras sauerkraut savory scallion  \\\n",
            "0      No   No   No     No         No        No         No     No       No   \n",
            "1      No   No   No     No         No        No         No     No       No   \n",
            "2      No   No   No     No         No        No         No     No       No   \n",
            "3      No   No   No     No         No        No         No     No       No   \n",
            "4      No   No   No     No         No        No         No     No      Yes   \n",
            "\n",
            "  scallop sea_algae seaweed seed sesame_oil sesame_seed shallot sheep_cheese  \\\n",
            "0      No        No      No  Yes         No          No      No           No   \n",
            "1      No        No      No  Yes         No          No      No           No   \n",
            "2      No        No      No   No         No          No      No           No   \n",
            "3      No        No      No   No         No          No     Yes           No   \n",
            "4      No        No      No   No         No          No      No           No   \n",
            "\n",
            "  shellfish sherry shiitake shrimp smoke smoked_fish smoked_salmon  \\\n",
            "0        No     No      Yes    Yes    No          No            No   \n",
            "1        No     No       No     No    No          No            No   \n",
            "2        No     No       No     No    No          No            No   \n",
            "3        No     No       No     No    No          No            No   \n",
            "4        No     No       No    Yes    No          No            No   \n",
            "\n",
            "  smoked_sausage sour_cherry sour_milk soy_sauce soybean soybean_oil  \\\n",
            "0             No          No        No        No      No          No   \n",
            "1             No          No        No        No      No          No   \n",
            "2             No          No        No       Yes      No          No   \n",
            "3             No          No        No        No      No          No   \n",
            "4             No          No        No        No      No          No   \n",
            "\n",
            "  spearmint squash squid star_anise starch strawberry strawberry_jam  \\\n",
            "0        No     No    No         No     No         No             No   \n",
            "1        No     No    No         No     No         No             No   \n",
            "2        No     No    No         No     No         No             No   \n",
            "3        No     No    No         No     No         No             No   \n",
            "4        No     No    No         No     No         No             No   \n",
            "\n",
            "  strawberry_juice sturgeon_caviar sumac sunflower_oil sweet_potato  \\\n",
            "0               No              No    No            No           No   \n",
            "1               No              No    No            No           No   \n",
            "2               No              No    No            No           No   \n",
            "3               No              No    No            No           No   \n",
            "4               No              No    No            No           No   \n",
            "\n",
            "  swiss_cheese tabasco_pepper tamarind tangerine tarragon tea tequila  \\\n",
            "0           No             No       No        No       No  No      No   \n",
            "1           No             No       No        No       No  No      No   \n",
            "2           No             No       No        No       No  No      No   \n",
            "3           No             No       No        No       No  No      No   \n",
            "4           No             No       No        No       No  No      No   \n",
            "\n",
            "  thai_pepper thyme tomato tomato_juice truffle tuna turkey turmeric turnip  \\\n",
            "0          No    No     No           No      No   No     No       No     No   \n",
            "1          No    No     No           No      No   No     No       No     No   \n",
            "2         Yes    No     No           No      No   No     No       No     No   \n",
            "3          No    No     No           No      No   No     No       No     No   \n",
            "4          No    No     No           No      No   No     No       No     No   \n",
            "\n",
            "  vanilla veal vegetable vegetable_oil vinegar violet walnut wasabi  \\\n",
            "0      No   No        No            No     Yes     No     No     No   \n",
            "1      No   No        No            No      No     No     No     No   \n",
            "2      No   No        No            No      No     No     No     No   \n",
            "3      No   No        No           Yes      No     No     No     No   \n",
            "4      No   No        No            No     Yes     No     No     No   \n",
            "\n",
            "  watercress watermelon wheat wheat_bread whiskey white_bread white_wine  \\\n",
            "0         No         No    No          No      No          No         No   \n",
            "1         No         No    No          No      No          No         No   \n",
            "2         No         No    No          No      No          No         No   \n",
            "3         No         No    No          No      No          No         No   \n",
            "4         No         No    No          No      No          No         No   \n",
            "\n",
            "  whole_grain_wheat_flour wine wood yam yeast yogurt zucchini  \n",
            "0                      No   No   No  No    No     No       No  \n",
            "1                      No   No   No  No    No     No       No  \n",
            "2                      No   No   No  No    No     No       No  \n",
            "3                      No   No   No  No    No     No       No  \n",
            "4                      No   No   No  No    No     No       No  \n"
          ]
        }
      ]
    },
    {
      "cell_type": "markdown",
      "source": [
        "Nhấp đúp vào __đây__ để xem lời giải.\n",
        "<!--\n",
        "recipes.head()\n",
        "-->"
      ],
      "metadata": {
        "id": "2t1881eWmG9u"
      }
    },
    {
      "cell_type": "markdown",
      "metadata": {
        "button": false,
        "new_sheet": false,
        "run_control": {
          "read_only": false
        },
        "id": "qeP88GKmQgMe"
      },
      "source": [
        "Nhận chiều của khung dữ liệu.\n"
      ]
    },
    {
      "cell_type": "code",
      "metadata": {
        "button": false,
        "collapsed": true,
        "jupyter": {
          "outputs_hidden": true
        },
        "new_sheet": false,
        "run_control": {
          "read_only": false
        },
        "id": "C4Zy3PmsQgMf",
        "colab": {
          "base_uri": "https://localhost:8080/"
        },
        "outputId": "e50a366a-0ecf-4a3c-d2f9-0deb0a90f30d"
      },
      "source": [
        "recipes.shape\n"
      ],
      "execution_count": 6,
      "outputs": [
        {
          "output_type": "execute_result",
          "data": {
            "text/plain": [
              "(57691, 384)"
            ]
          },
          "metadata": {},
          "execution_count": 6
        }
      ]
    },
    {
      "cell_type": "markdown",
      "source": [
        "Nhấp đúp vào __đây__ để xem lời giải.\n",
        "\n",
        "# *   List item\n",
        "*   List item\n",
        "\n",
        "\n",
        "<!--\n",
        "recipes.shape\n",
        "-->"
      ],
      "metadata": {
        "id": "2tow7HnFmR81"
      }
    },
    {
      "cell_type": "markdown",
      "metadata": {
        "button": false,
        "new_sheet": false,
        "run_control": {
          "read_only": false
        },
        "id": "O1emAa9KQgMf"
      },
      "source": [
        "Vậy, tập dữ liệu của chúng ta gồm 57.691 công thức nấu ăn. Mỗi hàng đại diện cho một công thức và đối với mỗi công thức, món ăn tương ứng được ghi lại cũng như xem 384 thành phần nguyên liệu có tồn tại trong công thức hay không, bắt đầu bằng hạnh nhân (almond) và kết thúc bằng bí ngòi (zucchini).\n",
        "\n",
        "* * *\n"
      ]
    },
    {
      "cell_type": "markdown",
      "metadata": {
        "button": false,
        "new_sheet": false,
        "run_control": {
          "read_only": false
        },
        "id": "J85SNN8eQgMg"
      },
      "source": [
        "Bây giờ giai đoạn thu thập dữ liệu đã hoàn tất, các nhà khoa học dữ liệu thường sử dụng thống kê mô tả và kỹ thuật trực quan hóa để hiểu rõ hơn về dữ liệu và làm quen với nó. Về cơ bản, các nhà khoa học dữ liệu khám phá dữ liệu để:\n",
        "\n",
        "- hiểu nội dung của nó,\n",
        "- đánh giá chất lượng của nó,\n",
        "- khám phá bất kỳ thông tin chi tiết sơ bộ thú vị nào, và\n",
        "- xác định xem dữ liệu bổ sung có cần thiết để lấp bất kỳ khoảng trống nào trong dữ liệu hay không.\n"
      ]
    },
    {
      "cell_type": "markdown",
      "metadata": {
        "button": false,
        "new_sheet": false,
        "run_control": {
          "read_only": false
        },
        "id": "DnqMi4wkQgMg"
      },
      "source": [
        "### Nguồn: IBM\n"
      ]
    },
    {
      "cell_type": "code",
      "source": [],
      "metadata": {
        "id": "SyHdfVzJrj3_"
      },
      "execution_count": null,
      "outputs": []
    }
  ]
}